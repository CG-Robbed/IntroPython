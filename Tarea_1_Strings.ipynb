{
  "nbformat": 4,
  "nbformat_minor": 0,
  "metadata": {
    "colab": {
      "name": "Tarea#1 - Strings",
      "provenance": [],
      "authorship_tag": "ABX9TyN1Vgz9IpsuogtEJv9fTmlx",
      "include_colab_link": true
    },
    "kernelspec": {
      "name": "python3",
      "display_name": "Python 3"
    }
  },
  "cells": [
    {
      "cell_type": "markdown",
      "metadata": {
        "id": "view-in-github",
        "colab_type": "text"
      },
      "source": [
        "<a href=\"https://colab.research.google.com/github/CG-Robbed/IntroPython/blob/main/Tarea_1_Strings.ipynb\" target=\"_parent\"><img src=\"https://colab.research.google.com/assets/colab-badge.svg\" alt=\"Open In Colab\"/></a>"
      ]
    },
    {
      "cell_type": "code",
      "metadata": {
        "colab": {
          "base_uri": "https://localhost:8080/"
        },
        "id": "-X2nXzmBrEJM",
        "outputId": "dc44c4d7-3f71-4f2c-f797-9f9026ae26ad"
      },
      "source": [
        "#TAREA 1. Strings\r\n",
        "#Solicitar el nombre completo del usuario, guardandolo en diferentes variables para despues concatenarlo.\r\n",
        "\r\n",
        "Nombre_1=input(\"¿Cuál es tu primer nombre?\")\r\n",
        "Nombre_2=input(\"¿Cuál es tu segundo nombre?\")\r\n",
        "Apellido_1=input(\"¿Cuál es tu primer apellido?\")\r\n",
        "Apellido_2=input(\"¿Cuál es tu segundo apellido?\")\r\n",
        "\r\n",
        "print(\"Mi nombre es:\", Nombre_1, Nombre_2, Apellido_1, Apellido_2)"
      ],
      "execution_count": 11,
      "outputs": [
        {
          "output_type": "stream",
          "text": [
            "¿Cuál es tu primer nombre?Carlos\n",
            "¿Cuál es tu segundo nombre?Javier\n",
            "¿Cuál es tu primer apellido?García\n",
            "¿Cuál es tu segundo apellido?Padilla\n",
            "Mi nombre es: Carlos Javier García Padilla\n"
          ],
          "name": "stdout"
        }
      ]
    }
  ]
}